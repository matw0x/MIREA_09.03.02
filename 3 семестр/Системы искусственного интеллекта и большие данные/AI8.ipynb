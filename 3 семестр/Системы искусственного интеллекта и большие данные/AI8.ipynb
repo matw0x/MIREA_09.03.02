{
 "cells": [
  {
   "cell_type": "markdown",
   "id": "43e66a56",
   "metadata": {},
   "source": [
    "# 1.1. Теоретический материал  – Кластеризация"
   ]
  },
  {
   "cell_type": "markdown",
   "id": "0484003e",
   "metadata": {},
   "source": [
    "Кластеризация — разбиение множества объектов на подмножества,\n",
    "называемые кластерами. Кластеризация, будучи математическим алгоритм\n",
    "имеет широкое применение во многих сферах: начиная с таких естественно\n",
    "научных областей как биология и физиология, и заканчивая маркетингом в\n",
    "социальных сетях и поисковой оптимизацией. Цель – разделить данные\n",
    "таким образом, чтобы точки, находящие в одном и том же кластере, были\n",
    "очень схожи друг с другом, а точки, находящиеся в разных кластерах,\n",
    "отличались друг от друга. Как и алгоритмы классификации, алгоритмы\n",
    "кластеризации присваивают (или прогнозируют) каждой точке данных\n",
    "номер кластера, которому она принадлежит.\n",
    "\n",
    "Задача кластеризации относится к широкому классу задач обучения\n",
    "без учителя. Кластеризацию применяют для анализа и поиска признаков по\n",
    "которым можно объединить объекты, сжатия данных и поиска новизны (что\n",
    "не входит ни в один кластер) В чем отличие классификации и\n",
    "кластеризации: при классификации у вас есть набор предопределенных\n",
    "классов, вы обучаете ИИ на наборе примеров и потом хотите знать, к какому\n",
    "классу принадлежит новый объект. При кластеризации вы используете\n",
    "алгоритм, который пытается сгруппировать набор объектов и определить,\n",
    "существует ли какая-либо взаимосвязь между объектами.\n",
    "\n",
    "__Метод k-средних__\n",
    "\n",
    "Кластеризация k-средних – один из самых простых и наиболее часто\n",
    "используемых алгоритмов кластеризации. Сначала выбирается число\n",
    "кластеров k. После выбора значения k алгоритм k-средних отбирает точки,\n",
    "которые будут представлять центры кластеров (cluster centers). Затем для\n",
    "каждой точки данных вычисляется его евклидово расстояние до каждого\n",
    "центра кластера. Каждая точка назначается ближайшему центру кластера.\n",
    "Алгоритм вычисляет центроиды (centroids) – центры тяжести кластеров.\n",
    "Каждый центроид – это вектор, элементы которого представляют собой\n",
    "средние значения характеристик, вычисленные по всем точкам кластера.\n",
    "Центр кластера смещается в его центроид. Точки заново назначаются\n",
    "ближайшему центру кластера. Этапы изменения центров кластеров и\n",
    "переназначения точек итеративно повторяются до тех пор, пока границы\n",
    "кластеров и расположение центроидов не перестанут изменяться, т.е. на\n",
    "каждой итерации в каждый кластер будут попадать одни и те же точки\n",
    "данных.\n",
    "\n",
    "Алгоритм k-средних, наверное, самый популярный и простой\n",
    "алгоритм кластеризации и очень легко представляется в виде простого\n",
    "псевдокода:\n",
    "\n",
    "1.Выбрать количество кластеров k, которое нам кажется\n",
    "оптимальным для наших данных.\n",
    "\n",
    "2.Высыпать случайным образом в пространство наших данных k\n",
    "точек (центроидов).\n",
    "\n",
    "3.Для каждой точки нашего набора данных посчитать, к какому\n",
    "центроиду она ближе.\n",
    "\n",
    "4.Переместить каждый центроид в центр выборки, которую мы\n",
    "отнесли к этому центроиду.\n",
    "\n",
    "5.Повторять последние два шага фиксированное число раз, либо\n",
    "до тех пор пока центроиды не \"сойдутся\" (обычно это значит, что их\n",
    "смещение относительно предыдущего положения не превышает какого-то\n",
    "заранее заданного небольшого значения).\n",
    "\n",
    "Стоит заметить, что можно рассчитывать расстояние между\n",
    "центройдами по любой метрике (Евклидовой, Хемминговой и т.д.)"
   ]
  },
  {
   "cell_type": "markdown",
   "id": "1af3461e",
   "metadata": {},
   "source": [
    "# Задание"
   ]
  },
  {
   "cell_type": "markdown",
   "id": "88a75ab0",
   "metadata": {},
   "source": [
    "_**Задача:**_ Дан массив данных\n",
    "\n",
    "𝑋 = 𝑛𝑝. 𝑎𝑟𝑟𝑎𝑦([[5,3],\n",
    "\n",
    "[10,15],\n",
    "\n",
    "[15,12],\n",
    "\n",
    "[24,10],\n",
    "\n",
    "[30,45],\n",
    "\n",
    "[85,70],\n",
    "\n",
    "[71,80],\n",
    "\n",
    "[60,78],\n",
    "\n",
    "[55,52],\n",
    "\n",
    "[80,91],])\n",
    "\n",
    "Требуется провести кластерный анализ данных методом k-средних.\n",
    "Поэкспериментируйте с количеством кластеров."
   ]
  },
  {
   "cell_type": "code",
   "execution_count": 26,
   "id": "5525ff46",
   "metadata": {},
   "outputs": [
    {
     "name": "stdout",
     "output_type": "stream",
     "text": [
      "Кол-во кластеров: 2 Оценка: 0.6586004781412067\n",
      "Кол-во кластеров: 3 Оценка: 0.5846934528951507\n",
      "Кол-во кластеров: 4 Оценка: 0.3537336988045371\n",
      "Кол-во кластеров: 5 Оценка: 0.29141085782352044\n",
      "Кол-во кластеров: 6 Оценка: 0.1272269032844573\n",
      "Кол-во кластеров: 7 Оценка: 0.11781183540579221\n",
      "Кол-во кластеров: 8 Оценка: 0.16636595070776933\n",
      "Кол-во кластеров: 9 Оценка: 0.09190097068243779\n"
     ]
    }
   ],
   "source": [
    "import numpy as np \n",
    "from sklearn.cluster import KMeans \n",
    "from sklearn.metrics import silhouette_score\n",
    "\n",
    "X = np.array([[5,3], [10,15], [15,12], [24,10], [30,45], [85,70], [71,80], [60,78], [55,52], [80,91]])\n",
    "\n",
    "for k in range(2, 10):\n",
    "    kmeans = KMeans(n_clusters = k, random_state = 222)\n",
    "    kmeans.fit(X)\n",
    "    y_pred = kmeans.predict(X)\n",
    "    score = silhouette_score(X, y_pred)\n",
    "    print(\"Кол-во кластеров:\", k, \"Оценка:\", score)\n"
   ]
  },
  {
   "cell_type": "markdown",
   "id": "b620c158",
   "metadata": {},
   "source": [
    "# Задание"
   ]
  },
  {
   "cell_type": "markdown",
   "id": "5362100e",
   "metadata": {},
   "source": [
    "_**Задача:**_ Выполните кластеризацию для набора данных ирисов Фишера. Выполните\n",
    "предсказания для модели. Поэкспериментируйте с количеством кластеров."
   ]
  },
  {
   "cell_type": "code",
   "execution_count": 21,
   "id": "2d33dfcf",
   "metadata": {
    "scrolled": true
   },
   "outputs": [
    {
     "name": "stdout",
     "output_type": "stream",
     "text": [
      "Кол-во кластеров:  2 Оценка:  0.7097529827226532\n",
      "Кол-во кластеров:  3 Оценка:  0.5890584158320897\n",
      "Кол-во кластеров:  4 Оценка:  0.5681506354358915\n",
      "Кол-во кластеров:  5 Оценка:  0.5530891332193704\n"
     ]
    }
   ],
   "source": [
    "import pandas as pd\n",
    "import numpy as np\n",
    "from sklearn.datasets import load_iris\n",
    "from sklearn.cluster import KMeans\n",
    "from sklearn.metrics import silhouette_score\n",
    "\n",
    "iris = load_iris()\n",
    "df = pd.DataFrame(data=np.c_[iris['data'], iris['target']], columns=iris['feature_names'] + ['target'])\n",
    "\n",
    "# длинa чашелистика и длинa лепестка\n",
    "X = df[['sepal length (cm)', 'petal length (cm)']]\n",
    "\n",
    "for k in range(2, 6):\n",
    "    kmeans = KMeans(n_clusters = k, random_state = 333)\n",
    "    kmeans.fit(X)\n",
    "    y_pred = kmeans.predict(X)\n",
    "    score = silhouette_score(X, y_pred)\n",
    "    print(\"Кол-во кластеров: \", k, \"Оценка: \", score)"
   ]
  },
  {
   "cell_type": "markdown",
   "id": "a5c0dbf0",
   "metadata": {},
   "source": [
    "# 1.1. Теоретический материал  –Иерархическая кластеризация"
   ]
  },
  {
   "cell_type": "markdown",
   "id": "474d760e",
   "metadata": {},
   "source": [
    "Алгомеративная кластеризация относится к семейству алгоритмов\n",
    "кластеризации, в основе которых лежат одинаковые принципы: алгоритм\n",
    "начинает свою работу с того, что каждую точку данных заносит в свой\n",
    "собственный кластер и по мере выполнения объединяет два наиболее\n",
    "схожих между собой кластера до тех пор, пока не будет удовлетворен\n",
    "определенный критерий остановки. Зачастую данным критерием выступает\n",
    "это количество кластеров, поэтому схожие между собой кластеры\n",
    "объединяются до тех пор, пока не останется заданное число кластеров.\n",
    "\n",
    "Результатом агломеративной кластеризации является иерархическая\n",
    "кластеризация. Кластеризация выполняется итеративно, и каждая точка\n",
    "совершает путь от отдельной точки-кластера до участника итогового\n",
    "кластера. На каждом промежуточном шаге происходит кластеризация\n",
    "данных (с разным количеством кластеров). Иногда полезно сразу взглянуть\n",
    "на все возможные кластеризации. Следующий пример показывает\n",
    "наложение всех возможных кластеризаций, показанных на рис. и дает\n",
    "некоторое представление о том, как каждый кластер распадается на более\n",
    "мелкие кластеры."
   ]
  },
  {
   "cell_type": "markdown",
   "id": "dcf2f421",
   "metadata": {},
   "source": [
    "# Задание"
   ]
  },
  {
   "cell_type": "markdown",
   "id": "5e52a05d",
   "metadata": {},
   "source": [
    "_**Задача:**_ Задание. Выполните иерархическую кластеризацию для набора данных об\n",
    "ирисах Фишера. При этом необходимо использовать любые два признака\n",
    "(всего их четыре)."
   ]
  },
  {
   "cell_type": "code",
   "execution_count": 23,
   "id": "a225a75b",
   "metadata": {},
   "outputs": [
    {
     "data": {
      "image/png": "[encoded data removed]",
      "text/plain": [
       "<Figure size 1000x700 with 1 Axes>"
      ]
     },
     "metadata": {},
     "output_type": "display_data"
    }
   ],
   "source": [
    "import pandas as pd\n",
    "import numpy as np\n",
    "from scipy.cluster.hierarchy import dendrogram, linkage  # функции для иерархической кластеризации\n",
    "import matplotlib.pyplot as plt\n",
    "from sklearn.datasets import load_iris\n",
    "\n",
    "iris = load_iris()\n",
    "\n",
    "# для объединения данных признаков и целевой переменной в один массив\n",
    "df = pd.DataFrame(data=np.c_[iris['data'], iris['target']], columns=iris['feature_names'] + ['target'])\n",
    "\n",
    "# длина чашелистика и длина лепестка\n",
    "X = df[['sepal length (cm)', 'petal length (cm)']]\n",
    "\n",
    "# Выполняем иерархическую кластеризацию методом Ward, который минимизирует сумму квадратов расстояний между кластерами\n",
    "# linkage возвращает матрицу расстояний между кластерами\n",
    "Z = linkage(X, 'ward')\n",
    "\n",
    "plt.figure(figsize=(10, 7))\n",
    "plt.title('Dendrogram')\n",
    "\n",
    "plt.xlabel('Samples') # образцы данных\n",
    "plt.ylabel('Distance') # расстояния между кластерами\n",
    "\n",
    "dendrogram(Z)\n",
    "plt.show()"
   ]
  }
 ],
 "metadata": {
  "kernelspec": {
   "display_name": "Python 3",
   "language": "python",
   "name": "python3"
  },
  "language_info": {
   "codemirror_mode": {
    "name": "ipython",
    "version": 3
   },
   "file_extension": ".py",
   "mimetype": "text/x-python",
   "name": "python",
   "nbconvert_exporter": "python",
   "pygments_lexer": "ipython3",
   "version": "3.12.3"
  }
 },
 "nbformat": 4,
 "nbformat_minor": 5
}
