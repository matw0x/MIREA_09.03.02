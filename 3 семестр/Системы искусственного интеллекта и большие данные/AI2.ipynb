{
 "cells": [
  {
   "attachments": {},
   "cell_type": "markdown",
   "metadata": {},
   "source": [
    "1.3.1 Задание. Создать 8x8 матрицу и заполнить её в шахматном порядке нулями и \n",
    "единицами."
   ]
  },
  {
   "cell_type": "code",
   "execution_count": 3,
   "metadata": {},
   "outputs": [
    {
     "name": "stdout",
     "output_type": "stream",
     "text": [
      "[[0 1 0 1 0 1 0 1]\n",
      " [1 0 1 0 1 0 1 0]\n",
      " [0 1 0 1 0 1 0 1]\n",
      " [1 0 1 0 1 0 1 0]\n",
      " [0 1 0 1 0 1 0 1]\n",
      " [1 0 1 0 1 0 1 0]\n",
      " [0 1 0 1 0 1 0 1]\n",
      " [1 0 1 0 1 0 1 0]]\n"
     ]
    }
   ],
   "source": [
    "import numpy as np\n",
    "answer = np.zeros((8, 8), dtype = int)\n",
    "answer[1::2, ::2] = answer[::2, 1::2] = 1\n",
    "print(answer)"
   ]
  },
  {
   "attachments": {},
   "cell_type": "markdown",
   "metadata": {},
   "source": [
    "1.3.2 Задание. Создать 5x5 матрицу со значениями в строках от 0 до 4. Для создания \n",
    "необходимо использовать функцию arrange."
   ]
  },
  {
   "cell_type": "code",
   "execution_count": 3,
   "metadata": {},
   "outputs": [
    {
     "name": "stdout",
     "output_type": "stream",
     "text": [
      "[[0 1 2 3 4]\n",
      " [0 1 2 3 4]\n",
      " [0 1 2 3 4]\n",
      " [0 1 2 3 4]\n",
      " [0 1 2 3 4]]\n"
     ]
    }
   ],
   "source": [
    "import numpy as np\n",
    "answer = np.tile(np.arange(5), (5, 1))\n",
    "print(answer)"
   ]
  },
  {
   "attachments": {},
   "cell_type": "markdown",
   "metadata": {},
   "source": [
    "1.3.3 Задание. Создать массив 3x3x3 со случайными значениями."
   ]
  },
  {
   "cell_type": "code",
   "execution_count": 5,
   "metadata": {},
   "outputs": [
    {
     "name": "stdout",
     "output_type": "stream",
     "text": [
      "[[[0.06440172 0.31733604 0.11727882]\n",
      "  [0.39088577 0.59074059 0.67138923]\n",
      "  [0.13481854 0.45248161 0.15814938]]\n",
      "\n",
      " [[0.15740817 0.17119414 0.72495737]\n",
      "  [0.18775053 0.96238645 0.51124624]\n",
      "  [0.15703368 0.10915794 0.25667583]]\n",
      "\n",
      " [[0.60134292 0.7775742  0.86176268]\n",
      "  [0.16552889 0.94380343 0.1944866 ]\n",
      "  [0.16776954 0.10683693 0.12555325]]]\n"
     ]
    }
   ],
   "source": [
    "import numpy as np\n",
    "answer = np.random.random((3, 3, 3))\n",
    "print(answer)"
   ]
  },
  {
   "attachments": {},
   "cell_type": "markdown",
   "metadata": {},
   "source": [
    "1.3.4 Задание. Создать матрицу с 0 внутри, и 1 на границах. "
   ]
  },
  {
   "cell_type": "code",
   "execution_count": 1,
   "metadata": {},
   "outputs": [
    {
     "name": "stdout",
     "output_type": "stream",
     "text": [
      "[[1 1 1 1 1 1 1 1]\n",
      " [1 0 0 0 0 0 0 1]\n",
      " [1 0 0 0 0 0 0 1]\n",
      " [1 0 0 0 0 0 0 1]\n",
      " [1 0 0 0 0 0 0 1]\n",
      " [1 0 0 0 0 0 0 1]\n",
      " [1 0 0 0 0 0 0 1]\n",
      " [1 1 1 1 1 1 1 1]]\n"
     ]
    }
   ],
   "source": [
    "import numpy as np\n",
    "core = np.zeros((6, 6), dtype=int)\n",
    "answer = np.pad(core, pad_width=1, constant_values=1)  # добавляем рамку из 1\n",
    "print(answer)"
   ]
  },
  {
   "attachments": {},
   "cell_type": "markdown",
   "metadata": {},
   "source": [
    "1.3.5 Задание. Создайте массив и отсортируйте его по убыванию. "
   ]
  },
  {
   "cell_type": "code",
   "execution_count": 8,
   "metadata": {},
   "outputs": [
    {
     "name": "stdout",
     "output_type": "stream",
     "text": [
      "95 92 92 90 74 72 52 43 29 22\n"
     ]
    }
   ],
   "source": [
    "import numpy as np\n",
    "array = np.random.randint(1, 100 + 1, size = 10)\n",
    "answer = np.sort(array)[::-1]\n",
    "print(*answer)"
   ]
  },
  {
   "attachments": {},
   "cell_type": "markdown",
   "metadata": {},
   "source": [
    "1.3.6 Задание. Создайте матрицу, выведите ее форму, размер и размерность. "
   ]
  },
  {
   "cell_type": "code",
   "execution_count": 3,
   "metadata": {},
   "outputs": [
    {
     "name": "stdout",
     "output_type": "stream",
     "text": [
      "Форма матрицы: (5, 5)\n",
      "Размер матрицы: 25\n",
      "Размерность матрицы: 2\n"
     ]
    }
   ],
   "source": [
    "import numpy as np\n",
    "matrix = np.random.random((5,5))\n",
    "print(f\"Форма матрицы: {matrix.shape}\")\n",
    "print(f\"Размер матрицы: {matrix.size}\")\n",
    "print(f\"Размерность матрицы: {matrix.ndim}\")"
   ]
  },
  {
   "attachments": {},
   "cell_type": "markdown",
   "metadata": {},
   "source": [
    "2.3.1 Задание. Найдите евклидово расстояние между двумя Series (точками) a и b, не \n",
    "используя встроенную формулу."
   ]
  },
  {
   "cell_type": "code",
   "execution_count": 10,
   "metadata": {},
   "outputs": [
    {
     "name": "stdout",
     "output_type": "stream",
     "text": [
      "8.0\n"
     ]
    }
   ],
   "source": [
    "import pandas as pd\n",
    "import numpy as np\n",
    "\n",
    "a = pd.Series([1, 2, 3, 4])\n",
    "b = pd.Series([5, 6, 7, 8])\n",
    "distance = np.sqrt(((a - b) ** 2).sum())\n",
    "\n",
    "print(distance)\n"
   ]
  },
  {
   "attachments": {},
   "cell_type": "markdown",
   "metadata": {},
   "source": [
    "2.3.2 Задание. Найдите в Интернете ссылку на любой csv файл и сформируйте из него \n",
    "фрейм данных (например, коллекцию фреймов данных можно найти \n",
    "здесь: https://github.com/akmand/datasets)."
   ]
  },
  {
   "cell_type": "code",
   "execution_count": 19,
   "metadata": {},
   "outputs": [
    {
     "name": "stdout",
     "output_type": "stream",
     "text": [
      "  Airline  Flight AirportFrom AirportTo  DayOfWeek  Time  Length  Delay\n",
      "0      CO     269         SFO       IAH          3    15     205      1\n",
      "1      US    1558         PHX       CLT          3    15     222      1\n",
      "2      AA    2400         LAX       DFW          3    20     165      1\n",
      "3      AA    2466         SFO       DFW          3    20     195      1\n",
      "4      AS     108         ANC       SEA          3    30     202      0\n"
     ]
    }
   ],
   "source": [
    "import pandas as pd\n",
    "\n",
    "url = 'https://raw.githubusercontent.com/akmand/datasets/refs/heads/main/airlines.csv'\n",
    "df = pd.read_csv(url)\n",
    "\n",
    "print(df.head(5))"
   ]
  },
  {
   "attachments": {},
   "cell_type": "markdown",
   "metadata": {},
   "source": [
    "2.3.3 Задание. Проделайте с получившемся из предыдущего задания фреймом данных \n",
    "те же действия, что и в примерах 2.2.5-2.2.7."
   ]
  },
  {
   "cell_type": "code",
   "execution_count": null,
   "metadata": {},
   "outputs": [
    {
     "data": {
      "text/html": [
       "<div>\n",
       "<style scoped>\n",
       "    .dataframe tbody tr th:only-of-type {\n",
       "        vertical-align: middle;\n",
       "    }\n",
       "\n",
       "    .dataframe tbody tr th {\n",
       "        vertical-align: top;\n",
       "    }\n",
       "\n",
       "    .dataframe thead th {\n",
       "        text-align: right;\n",
       "    }\n",
       "</style>\n",
       "<table border=\"1\" class=\"dataframe\">\n",
       "  <thead>\n",
       "    <tr style=\"text-align: right;\">\n",
       "      <th></th>\n",
       "      <th>Airline</th>\n",
       "      <th>Flight</th>\n",
       "      <th>AirportFrom</th>\n",
       "      <th>AirportTo</th>\n",
       "      <th>DayOfWeek</th>\n",
       "      <th>Time</th>\n",
       "      <th>Length</th>\n",
       "      <th>Delay</th>\n",
       "    </tr>\n",
       "  </thead>\n",
       "  <tbody>\n",
       "    <tr>\n",
       "      <th>2</th>\n",
       "      <td>AA</td>\n",
       "      <td>2400</td>\n",
       "      <td>LAX</td>\n",
       "      <td>DFW</td>\n",
       "      <td>3</td>\n",
       "      <td>20</td>\n",
       "      <td>165</td>\n",
       "      <td>1</td>\n",
       "    </tr>\n",
       "    <tr>\n",
       "      <th>3</th>\n",
       "      <td>AA</td>\n",
       "      <td>2466</td>\n",
       "      <td>SFO</td>\n",
       "      <td>DFW</td>\n",
       "      <td>3</td>\n",
       "      <td>20</td>\n",
       "      <td>195</td>\n",
       "      <td>1</td>\n",
       "    </tr>\n",
       "  </tbody>\n",
       "</table>\n",
       "</div>"
      ],
      "text/plain": [
       "  Airline  Flight AirportFrom AirportTo  DayOfWeek  Time  Length  Delay\n",
       "2      AA    2400         LAX       DFW          3    20     165      1\n",
       "3      AA    2466         SFO       DFW          3    20     195      1"
      ]
     },
     "execution_count": 24,
     "metadata": {},
     "output_type": "execute_result"
    }
   ],
   "source": [
    "import pandas as pd\n",
    "\n",
    "url = \"https://raw.githubusercontent.com/akmand/datasets/refs/heads/main/airlines.csv\"\n",
    "\n",
    "# 2.2.5\n",
    "dataframe = pd.read_csv(url)\n",
    "dataframe.head(2)\n",
    "dataframe.tail(3)\n",
    "dataframe.shape # размер таблицы в виде (число строк, число столбцов)\n",
    "dataframe.describe() # выдаёт основные статистические характеристики числовых столбцов\n",
    "\n",
    "# 2.2.6\n",
    "dataframe.iloc[1:4]\n",
    "\n",
    "# 2.2.7\n",
    "dataframe[dataframe['Flight'] > 2000].head(2)"
   ]
  },
  {
   "attachments": {},
   "cell_type": "markdown",
   "metadata": {},
   "source": [
    "3.3.2 Задание. Загрузить фрейм данных по ссылке: \n",
    "https://raw.githubusercontent.com/akmand/datasets/master/iris.csv. \n",
    "Необходимо выполнить нормализацию первого числового признака \n",
    "(sepal_length_cm) с использованием минимаксного преобразования, а \n",
    "второго (sepal_width_cm) с задействованием z-масштабирования. "
   ]
  },
  {
   "cell_type": "code",
   "execution_count": null,
   "metadata": {},
   "outputs": [
    {
     "name": "stdout",
     "output_type": "stream",
     "text": [
      "   sepal_length_cm  sepal_width_cm\n",
      "0         0.222222        1.032057\n",
      "1         0.166667       -0.124958\n",
      "2         0.111111        0.337848\n",
      "3         0.083333        0.106445\n",
      "4         0.194444        1.263460\n"
     ]
    }
   ],
   "source": [
    "import pandas as pd\n",
    "from sklearn.preprocessing import MinMaxScaler, StandardScaler\n",
    "\n",
    "url = 'https://raw.githubusercontent.com/akmand/datasets/master/iris.csv'\n",
    "df = pd.read_csv(url)\n",
    "\n",
    "min_max_scaler = MinMaxScaler() # для выполнения минимаксного преобразования\n",
    "z_scaler = StandardScaler() # для выполнения z-стандартизации\n",
    "\n",
    "# применяем минимаксное преобразование к признаку \"sepal_length_cm\"\n",
    "# (масштабируем его значения в диапазон [0, 1])\n",
    "df['sepal_length_cm'] = min_max_scaler.fit_transform(df[['sepal_length_cm']])\n",
    "\n",
    "# применяем z-стандартизацию к признаку \"sepal_width_cm\"\n",
    "# (преобразуем данные так, чтобы их среднее стало 0, а стандартное отклонение 1)\n",
    "df['sepal_width_cm'] = z_scaler.fit_transform(df[['sepal_width_cm']])\n",
    "\n",
    "print(df[['sepal_length_cm', 'sepal_width_cm']].head())"
   ]
  }
 ],
 "metadata": {
  "kernelspec": {
   "display_name": "Python 3",
   "language": "python",
   "name": "python3"
  },
  "language_info": {
   "codemirror_mode": {
    "name": "ipython",
    "version": 3
   },
   "file_extension": ".py",
   "mimetype": "text/x-python",
   "name": "python",
   "nbconvert_exporter": "python",
   "pygments_lexer": "ipython3",
   "version": "3.12.3"
  },
  "orig_nbformat": 4,
  "vscode": {
   "interpreter": {
    "hash": "c8e7b8a5fb18722c706c80178f617ac0f7a16c4b5a7c63b4b737eecf7a54cfec"
   }
  }
 },
 "nbformat": 4,
 "nbformat_minor": 2
}
